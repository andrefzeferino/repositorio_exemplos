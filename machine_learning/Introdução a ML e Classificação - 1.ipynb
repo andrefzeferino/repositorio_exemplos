{
 "cells": [
  {
   "cell_type": "code",
   "execution_count": 1,
   "id": "9e6643a0",
   "metadata": {},
   "outputs": [],
   "source": [
    "#features (1 sim, 0 não)\n",
    "#pelo longo?\n",
    "#perna curta?\n",
    "#faz auau?\n",
    "porco1 = [0, 1, 0]\n",
    "porco2 = [0, 1, 1]\n",
    "porco3 = [1, 1, 0]\n",
    "\n",
    "cachorro1 = [0, 1, 1]\n",
    "cachorro2 = [1, 0, 1]\n",
    "cachorro3 = [1, 1, 1]\n",
    "# 1 porco # 0 cachorro\n",
    "dados = [porco1, porco2, porco3, cachorro1, cachorro2, cachorro3]\n",
    "classes = [1, 1, 1, 0, 0, 0]"
   ]
  },
  {
   "cell_type": "code",
   "execution_count": 2,
   "id": "b646b192",
   "metadata": {},
   "outputs": [
    {
     "data": {
      "text/plain": [
       "LinearSVC()"
      ]
     },
     "execution_count": 2,
     "metadata": {},
     "output_type": "execute_result"
    }
   ],
   "source": [
    "from sklearn.svm import LinearSVC\n",
    "\n",
    "model = LinearSVC()\n",
    "model.fit(dados, classes)"
   ]
  },
  {
   "cell_type": "code",
   "execution_count": 3,
   "id": "78d4d683",
   "metadata": {},
   "outputs": [
    {
     "data": {
      "text/plain": [
       "array([0])"
      ]
     },
     "execution_count": 3,
     "metadata": {},
     "output_type": "execute_result"
    }
   ],
   "source": [
    "animal_misterioso = [1, 1, 1]\n",
    "model.predict([animal_misterioso])"
   ]
  },
  {
   "cell_type": "code",
   "execution_count": 4,
   "id": "dfbaace4",
   "metadata": {},
   "outputs": [],
   "source": [
    "misterio1 = [1, 1, 1]\n",
    "misterio2 = [1, 1, 0]\n",
    "misterio3 = [0, 1, 1]\n",
    "\n",
    "testes = [misterio1, misterio2, misterio3]\n",
    "previsoes = model.predict(testes)"
   ]
  },
  {
   "cell_type": "code",
   "execution_count": 5,
   "id": "e99f9d68",
   "metadata": {},
   "outputs": [],
   "source": [
    "testes_classes = [0, 1, 1]"
   ]
  },
  {
   "cell_type": "code",
   "execution_count": 6,
   "id": "e755b53a",
   "metadata": {},
   "outputs": [
    {
     "name": "stdout",
     "output_type": "stream",
     "text": [
      "Taxa de Acerto: 67.0 %\n"
     ]
    }
   ],
   "source": [
    "corretos = (previsoes == testes_classes).sum()\n",
    "total = len(testes)\n",
    "taxa_de_acertos = round(corretos/total, 2) * 100\n",
    "print('Taxa de Acerto:', taxa_de_acertos, '%')"
   ]
  },
  {
   "cell_type": "code",
   "execution_count": 7,
   "id": "cbc35f21",
   "metadata": {},
   "outputs": [],
   "source": [
    "from sklearn.metrics import accuracy_score"
   ]
  },
  {
   "cell_type": "code",
   "execution_count": 8,
   "id": "35530a49",
   "metadata": {},
   "outputs": [
    {
     "name": "stdout",
     "output_type": "stream",
     "text": [
      "Taxa de Acerto: 0.6666666666666666 %\n"
     ]
    }
   ],
   "source": [
    "taxa_de_acertos = accuracy_score(testes_classes, previsoes)\n",
    "print('Taxa de Acerto:', taxa_de_acertos, '%')"
   ]
  }
 ],
 "metadata": {
  "kernelspec": {
   "display_name": "Python 3 (ipykernel)",
   "language": "python",
   "name": "python3"
  },
  "language_info": {
   "codemirror_mode": {
    "name": "ipython",
    "version": 3
   },
   "file_extension": ".py",
   "mimetype": "text/x-python",
   "name": "python",
   "nbconvert_exporter": "python",
   "pygments_lexer": "ipython3",
   "version": "3.9.7"
  }
 },
 "nbformat": 4,
 "nbformat_minor": 5
}
