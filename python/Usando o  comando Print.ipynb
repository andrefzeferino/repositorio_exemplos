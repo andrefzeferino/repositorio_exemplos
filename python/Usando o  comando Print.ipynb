{
 "cells": [
  {
   "cell_type": "raw",
   "id": "f94fcee5",
   "metadata": {},
   "source": [
    "Formas de usar o comando Print"
   ]
  },
  {
   "cell_type": "code",
   "execution_count": 1,
   "id": "50797fd0",
   "metadata": {},
   "outputs": [
    {
     "name": "stdout",
     "output_type": "stream",
     "text": [
      "Olá Amigo\n",
      "Tudo bem?\n"
     ]
    }
   ],
   "source": [
    "print('Olá Amigo')\n",
    "print('Tudo bem?')"
   ]
  },
  {
   "cell_type": "code",
   "execution_count": 2,
   "id": "3eacfb92",
   "metadata": {},
   "outputs": [
    {
     "name": "stdout",
     "output_type": "stream",
     "text": [
      "Olá Amigo\n",
      "Tudo bem?\n"
     ]
    }
   ],
   "source": [
    "print('Olá Amigo');print('Tudo bem?')"
   ]
  },
  {
   "cell_type": "code",
   "execution_count": null,
   "id": "cf804330",
   "metadata": {},
   "outputs": [],
   "source": []
  }
 ],
 "metadata": {
  "kernelspec": {
   "display_name": "Python 3 (ipykernel)",
   "language": "python",
   "name": "python3"
  },
  "language_info": {
   "codemirror_mode": {
    "name": "ipython",
    "version": 3
   },
   "file_extension": ".py",
   "mimetype": "text/x-python",
   "name": "python",
   "nbconvert_exporter": "python",
   "pygments_lexer": "ipython3",
   "version": "3.9.7"
  }
 },
 "nbformat": 4,
 "nbformat_minor": 5
}
