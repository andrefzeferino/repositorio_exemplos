{
 "cells": [
  {
   "cell_type": "markdown",
   "id": "5901ad53",
   "metadata": {},
   "source": [
    "# Exercício de Estatística e Probabilidade\n",
    "Fonte do Exercício: https://curso.trillio.app/veduca-gratuitos/767657/atividade/2242, acesso em: 10 mar de 2022"
   ]
  },
  {
   "cell_type": "markdown",
   "id": "bf0ea228",
   "metadata": {},
   "source": [
    "Definição Clássica de Probabilidade\n",
    "\n",
    "\n",
    "p = probabilidade\n",
    "\n",
    "m = resultados favoráveis\n",
    "\n",
    "n = resultados possíveis\n",
    "\n",
    "p = m/n\n",
    "\n",
    "Obs: Eventos igualmente prováveis"
   ]
  },
  {
   "cell_type": "markdown",
   "id": "aa1e6561",
   "metadata": {},
   "source": [
    "1 - Compro 5 nomes de uma rifa que contém 100 nomes, qual a probabilidade de ganhar a rifa?"
   ]
  },
  {
   "cell_type": "code",
   "execution_count": 1,
   "id": "421210f9",
   "metadata": {},
   "outputs": [
    {
     "name": "stdout",
     "output_type": "stream",
     "text": [
      "A probabilidade de ganhar é de: 5.0%\n"
     ]
    }
   ],
   "source": [
    "qtd_nomes = 100 #m\n",
    "nomes_comprados = 5 #n\n",
    "\n",
    "p = nomes_comprados/qtd_nomes\n",
    "\n",
    "print(\"A probabilidade de ganhar é de: \" + str(p * 100) +\"%\" )"
   ]
  },
  {
   "cell_type": "markdown",
   "id": "8e440810",
   "metadata": {},
   "source": [
    "Exercício 1\n",
    "\n",
    "Em um cassino, localizado em certo país no exterior, o dono providenciou um dado especial. Nesse dado a probabilidade de sair determinado ponto é inversamente proporcional a seu valor. Um aluno de Estatística, ao visitar esse cassino, resolveu investigar se estava sendo trapaceado. “Com base na observação de diversos eventos, para elaborar um relatório, ele fez os cálculos das probabilidades a seguir.” Sabendo como o dado se comporta, calcule:\n",
    "\n",
    "a) a probabilidade de sair um número menor que 3;\n",
    "\n",
    "b) a probabilidade de sair um número par;\n",
    "\n",
    "c) a probabilidade de sair um número primo;\n",
    "\n",
    "d) a probabilidade de sair ponto 3;\n",
    "\n",
    "e) a probabilidade de sair ponto 6."
   ]
  },
  {
   "cell_type": "code",
   "execution_count": 2,
   "id": "e9510793",
   "metadata": {},
   "outputs": [],
   "source": [
    "import pandas as pd"
   ]
  },
  {
   "cell_type": "code",
   "execution_count": 3,
   "id": "fd325855",
   "metadata": {},
   "outputs": [],
   "source": [
    "probabilidade = {\"Ponto x\": [\"P(x)\"],\n",
    "                \"1\": [\"k/1\"],\n",
    "                \"2\": [\"k/2\"],\n",
    "                \"3\": [\"k/3\"],\n",
    "                \"4\": [\"k/4\"],\n",
    "                \"5\": [\"k/5\"],\n",
    "                \"6\": [\"k/6\"],\n",
    "                }"
   ]
  },
  {
   "cell_type": "code",
   "execution_count": 4,
   "id": "926f770f",
   "metadata": {},
   "outputs": [],
   "source": [
    "probabilidade_df = pd.DataFrame(probabilidade)"
   ]
  },
  {
   "cell_type": "code",
   "execution_count": 5,
   "id": "c3e50038",
   "metadata": {},
   "outputs": [
    {
     "data": {
      "text/html": [
       "<div>\n",
       "<style scoped>\n",
       "    .dataframe tbody tr th:only-of-type {\n",
       "        vertical-align: middle;\n",
       "    }\n",
       "\n",
       "    .dataframe tbody tr th {\n",
       "        vertical-align: top;\n",
       "    }\n",
       "\n",
       "    .dataframe thead th {\n",
       "        text-align: right;\n",
       "    }\n",
       "</style>\n",
       "<table border=\"1\" class=\"dataframe\">\n",
       "  <thead>\n",
       "    <tr style=\"text-align: right;\">\n",
       "      <th></th>\n",
       "      <th>Ponto x</th>\n",
       "      <th>1</th>\n",
       "      <th>2</th>\n",
       "      <th>3</th>\n",
       "      <th>4</th>\n",
       "      <th>5</th>\n",
       "      <th>6</th>\n",
       "    </tr>\n",
       "  </thead>\n",
       "  <tbody>\n",
       "    <tr>\n",
       "      <th>0</th>\n",
       "      <td>P(x)</td>\n",
       "      <td>k/1</td>\n",
       "      <td>k/2</td>\n",
       "      <td>k/3</td>\n",
       "      <td>k/4</td>\n",
       "      <td>k/5</td>\n",
       "      <td>k/6</td>\n",
       "    </tr>\n",
       "  </tbody>\n",
       "</table>\n",
       "</div>"
      ],
      "text/plain": [
       "  Ponto x    1    2    3    4    5    6\n",
       "0    P(x)  k/1  k/2  k/3  k/4  k/5  k/6"
      ]
     },
     "execution_count": 5,
     "metadata": {},
     "output_type": "execute_result"
    }
   ],
   "source": [
    "probabilidade_df"
   ]
  },
  {
   "cell_type": "markdown",
   "id": "f4ead03f",
   "metadata": {},
   "source": [
    "Pela definição axiomática, sabemos que a probabilidade do espaço amostral deve ser igual a 1. Portanto, a soma das probabilidades de todos os resultados possíveis deverá resultar em 1, pois P(S) = 1. Então:"
   ]
  },
  {
   "cell_type": "markdown",
   "id": "63f5500b",
   "metadata": {},
   "source": [
    "P(S) = P(1) + P(2) + P(3) + P(4) + P(5) + P(6) = 1\n",
    "\n",
    "k/1\t+ k/2 +\tk/3\t+ k/4 +\tk/5 + k/6 = 1"
   ]
  },
  {
   "cell_type": "code",
   "execution_count": 6,
   "id": "b005c45b",
   "metadata": {},
   "outputs": [],
   "source": [
    "count = range(1, 7)\n",
    "lista = []\n",
    "for x in count:\n",
    "    y = 6 / x\n",
    "    lista.append(y)"
   ]
  },
  {
   "cell_type": "code",
   "execution_count": 7,
   "id": "f773ce02",
   "metadata": {},
   "outputs": [],
   "source": [
    "soma = sum(lista)"
   ]
  },
  {
   "cell_type": "code",
   "execution_count": 8,
   "id": "146e4d0a",
   "metadata": {},
   "outputs": [
    {
     "name": "stdout",
     "output_type": "stream",
     "text": [
      "0.40816326530612246\n"
     ]
    }
   ],
   "source": [
    "k = 6/soma\n",
    "print(k)"
   ]
  },
  {
   "cell_type": "code",
   "execution_count": 9,
   "id": "719dd781",
   "metadata": {},
   "outputs": [],
   "source": [
    "probabilidade = {\"Ponto x\": [\"P(x)\"],\n",
    "                \"1\": [k/1],\n",
    "                \"2\": [k/2],\n",
    "                \"3\": [k/3],\n",
    "                \"4\": [k/4],\n",
    "                \"5\": [k/5],\n",
    "                \"6\": [k/6],\n",
    "                }"
   ]
  },
  {
   "cell_type": "code",
   "execution_count": 10,
   "id": "2a0b4419",
   "metadata": {},
   "outputs": [],
   "source": [
    "probabilidade_df = pd.DataFrame(probabilidade)"
   ]
  },
  {
   "cell_type": "code",
   "execution_count": 11,
   "id": "7048a8f9",
   "metadata": {},
   "outputs": [
    {
     "data": {
      "text/html": [
       "<div>\n",
       "<style scoped>\n",
       "    .dataframe tbody tr th:only-of-type {\n",
       "        vertical-align: middle;\n",
       "    }\n",
       "\n",
       "    .dataframe tbody tr th {\n",
       "        vertical-align: top;\n",
       "    }\n",
       "\n",
       "    .dataframe thead th {\n",
       "        text-align: right;\n",
       "    }\n",
       "</style>\n",
       "<table border=\"1\" class=\"dataframe\">\n",
       "  <thead>\n",
       "    <tr style=\"text-align: right;\">\n",
       "      <th></th>\n",
       "      <th>Ponto x</th>\n",
       "      <th>1</th>\n",
       "      <th>2</th>\n",
       "      <th>3</th>\n",
       "      <th>4</th>\n",
       "      <th>5</th>\n",
       "      <th>6</th>\n",
       "    </tr>\n",
       "  </thead>\n",
       "  <tbody>\n",
       "    <tr>\n",
       "      <th>0</th>\n",
       "      <td>P(x)</td>\n",
       "      <td>0.408163</td>\n",
       "      <td>0.204082</td>\n",
       "      <td>0.136054</td>\n",
       "      <td>0.102041</td>\n",
       "      <td>0.081633</td>\n",
       "      <td>0.068027</td>\n",
       "    </tr>\n",
       "  </tbody>\n",
       "</table>\n",
       "</div>"
      ],
      "text/plain": [
       "  Ponto x         1         2         3         4         5         6\n",
       "0    P(x)  0.408163  0.204082  0.136054  0.102041  0.081633  0.068027"
      ]
     },
     "execution_count": 11,
     "metadata": {},
     "output_type": "execute_result"
    }
   ],
   "source": [
    "probabilidade_df"
   ]
  },
  {
   "cell_type": "code",
   "execution_count": 12,
   "id": "79578900",
   "metadata": {},
   "outputs": [
    {
     "name": "stdout",
     "output_type": "stream",
     "text": [
      "A probabilidade de sair um número menor que 3 é: 0.6122448979591837\n"
     ]
    }
   ],
   "source": [
    "q1 = str(k/1 + k/2)\n",
    "print(\"A probabilidade de sair um número menor que 3 é: \" + q1)"
   ]
  },
  {
   "cell_type": "code",
   "execution_count": 13,
   "id": "0d3e03ae",
   "metadata": {},
   "outputs": [
    {
     "name": "stdout",
     "output_type": "stream",
     "text": [
      "a probabilidade de sair um número par é: 0.3741496598639456\n"
     ]
    }
   ],
   "source": [
    "q2 = str(k/2 + k/4 + k/6)\n",
    "print(\"a probabilidade de sair um número par é: \" + q2)"
   ]
  },
  {
   "cell_type": "code",
   "execution_count": 14,
   "id": "9f31c1fc",
   "metadata": {},
   "outputs": [
    {
     "name": "stdout",
     "output_type": "stream",
     "text": [
      "a probabilidade de sair um número primo é: 0.4217687074829932\n"
     ]
    }
   ],
   "source": [
    "q3 = str(k/2 + k/3 + k/5)\n",
    "print(\"a probabilidade de sair um número primo é: \" + q3)"
   ]
  },
  {
   "cell_type": "code",
   "execution_count": 15,
   "id": "0c3b83e6",
   "metadata": {},
   "outputs": [
    {
     "name": "stdout",
     "output_type": "stream",
     "text": [
      "a probabilidade de sair ponto 3 é: 0.1360544217687075\n"
     ]
    }
   ],
   "source": [
    "q4 = str(k/3)\n",
    "print(\"a probabilidade de sair ponto 3 é: \" + q4)"
   ]
  },
  {
   "cell_type": "code",
   "execution_count": 16,
   "id": "cf9a0f44",
   "metadata": {},
   "outputs": [
    {
     "name": "stdout",
     "output_type": "stream",
     "text": [
      "a probabilidade de sair ponto 6 é: 0.06802721088435375\n"
     ]
    }
   ],
   "source": [
    "q5 = str(k/6)\n",
    "print(\"a probabilidade de sair ponto 6 é: \" + q5)"
   ]
  }
 ],
 "metadata": {
  "kernelspec": {
   "display_name": "Python 3 (ipykernel)",
   "language": "python",
   "name": "python3"
  },
  "language_info": {
   "codemirror_mode": {
    "name": "ipython",
    "version": 3
   },
   "file_extension": ".py",
   "mimetype": "text/x-python",
   "name": "python",
   "nbconvert_exporter": "python",
   "pygments_lexer": "ipython3",
   "version": "3.9.7"
  }
 },
 "nbformat": 4,
 "nbformat_minor": 5
}
