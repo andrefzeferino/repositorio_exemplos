{
 "cells": [
  {
   "cell_type": "raw",
   "id": "b18402d9",
   "metadata": {},
   "source": [
    "Enunciado\n",
    "Dois dados não viciados são lançados simultaneamente. Considere os eventos A = {soma dos pontos igual a 6} e B = {pontos 1, 2 ou 3 no segundo dado}. Calcule:\n",
    "a) a probabilidade de ocorrer o evento A\n",
    "b) a probabilidade de ocorrer o evento B\n",
    "c) a probabilidade de ocorrer o evento união.\n",
    "d) a probabilidade da interseção entre A e o complemento de B\n",
    "e) a probabilidade da interseção entre os eventos A e B\n",
    "f) a probabilidade da união do complemento de A com o evento B\n",
    "\n",
    "Fonte: https://curso.trillio.app/veduca-gratuitos/767657/atividade/2242, acesso em: 30/03/2021"
   ]
  },
  {
   "cell_type": "code",
   "execution_count": 1,
   "id": "2d04b175",
   "metadata": {},
   "outputs": [
    {
     "name": "stdout",
     "output_type": "stream",
     "text": [
      "['(1, 1)', '(1, 2)', '(1, 3)', '(1, 4)', '(1, 5)', '(1, 6)', '(2, 1)', '(2, 2)', '(2, 3)', '(2, 4)', '(2, 5)', '(2, 6)', '(3, 1)', '(3, 2)', '(3, 3)', '(3, 4)', '(3, 5)', '(3, 6)', '(4, 1)', '(4, 2)', '(4, 3)', '(4, 4)', '(4, 5)', '(4, 6)', '(5, 1)', '(5, 2)', '(5, 3)', '(5, 4)', '(5, 5)', '(5, 6)', '(6, 1)', '(6, 2)', '(6, 3)', '(6, 4)', '(6, 5)', '(6, 6)']\n"
     ]
    }
   ],
   "source": [
    "from itertools import product\n",
    "\n",
    "def comb_possiveis(l1, l2):\n",
    "    return [ f'{s, num}' for s, num in product(l1, l2) ]\n",
    "\n",
    "x = [1, 2, 3, 4, 5, 6]\n",
    "y = [1, 2, 3, 4, 5, 6]\n",
    "\n",
    "comb = comb_possiveis(x, y)\n",
    "print('{}'.format(comb))"
   ]
  },
  {
   "cell_type": "code",
   "execution_count": 2,
   "id": "65ac7959",
   "metadata": {},
   "outputs": [],
   "source": [
    "import numpy as np #transformando em um array 6 X 6\n",
    "array = np.asarray(comb)"
   ]
  },
  {
   "cell_type": "code",
   "execution_count": 3,
   "id": "d66c606f",
   "metadata": {},
   "outputs": [
    {
     "data": {
      "text/plain": [
       "array(['(1, 1)', '(1, 2)', '(1, 3)', '(1, 4)', '(1, 5)', '(1, 6)',\n",
       "       '(2, 1)', '(2, 2)', '(2, 3)', '(2, 4)', '(2, 5)', '(2, 6)',\n",
       "       '(3, 1)', '(3, 2)', '(3, 3)', '(3, 4)', '(3, 5)', '(3, 6)',\n",
       "       '(4, 1)', '(4, 2)', '(4, 3)', '(4, 4)', '(4, 5)', '(4, 6)',\n",
       "       '(5, 1)', '(5, 2)', '(5, 3)', '(5, 4)', '(5, 5)', '(5, 6)',\n",
       "       '(6, 1)', '(6, 2)', '(6, 3)', '(6, 4)', '(6, 5)', '(6, 6)'],\n",
       "      dtype='<U6')"
      ]
     },
     "execution_count": 3,
     "metadata": {},
     "output_type": "execute_result"
    }
   ],
   "source": [
    "array"
   ]
  },
  {
   "cell_type": "raw",
   "id": "ad98d744",
   "metadata": {},
   "source": [
    "a) a probabilidade de ocorrer o evento A:\n",
    "Os resultados favoráveis ao evento A são (1,5); (2,4); (3,3); (4,2); (5,1), portanto:"
   ]
  },
  {
   "cell_type": "code",
   "execution_count": 4,
   "id": "71237e8a",
   "metadata": {},
   "outputs": [
    {
     "data": {
      "text/plain": [
       "0.1388888888888889"
      ]
     },
     "execution_count": 4,
     "metadata": {},
     "output_type": "execute_result"
    }
   ],
   "source": [
    "a = 5/36 # 5 possibilidades em 36 eventos\n",
    "a"
   ]
  },
  {
   "cell_type": "raw",
   "id": "d9bae8bb",
   "metadata": {},
   "source": [
    "b) a probabilidade de ocorrer o evento B:\n",
    "Os resultados ao evento B são as três colunas da esquerda do array anterior.\n",
    "(1, 1), (1, 2), (1, 3)\n",
    "(2, 1), (2, 2), (2, 3)\n",
    "(3, 1), (3, 2), (3, 3)\n",
    "(4, 1), (4, 2), (4, 3)\n",
    "(5, 1), (5, 2), (5, 3)\n",
    "(6, 1), (6, 2), (6, 3)"
   ]
  },
  {
   "cell_type": "code",
   "execution_count": 1,
   "id": "997f92a4",
   "metadata": {},
   "outputs": [
    {
     "data": {
      "text/plain": [
       "0.5"
      ]
     },
     "execution_count": 1,
     "metadata": {},
     "output_type": "execute_result"
    }
   ],
   "source": [
    "b = 18/36\n",
    "b"
   ]
  },
  {
   "cell_type": "raw",
   "id": "b14c5515",
   "metadata": {},
   "source": [
    "c) a probabilidade de ocorrer o evento união:\n",
    "A probabilidade de ocorrer o evento união corresponde à ocorrência de algum dos eventos A e B:\n",
    "(1, 1), (1, 2), (1, 3)\n",
    "(2, 1), (2, 2), (2, 3)\n",
    "(3, 1), (3, 2), (3, 3)\n",
    "(4, 1), (4, 2), (4, 3)\n",
    "(5, 1), (5, 2), (5, 3)\n",
    "(6, 1), (6, 2), (6, 3)\n",
    "...\n",
    "(1,5); (2,4)"
   ]
  },
  {
   "cell_type": "code",
   "execution_count": 2,
   "id": "77224d7b",
   "metadata": {},
   "outputs": [
    {
     "data": {
      "text/plain": [
       "0.5555555555555556"
      ]
     },
     "execution_count": 2,
     "metadata": {},
     "output_type": "execute_result"
    }
   ],
   "source": [
    "c = 20/36\n",
    "c"
   ]
  },
  {
   "cell_type": "raw",
   "id": "3484e232",
   "metadata": {},
   "source": [
    "d) a probabilidade da interseção entre A e o complemento de B:\n",
    "A intersecção entre A e o complemento de B serão os resultados (2,4) e (1,5)."
   ]
  },
  {
   "cell_type": "code",
   "execution_count": 3,
   "id": "bb3b2715",
   "metadata": {},
   "outputs": [
    {
     "data": {
      "text/plain": [
       "0.05555555555555555"
      ]
     },
     "execution_count": 3,
     "metadata": {},
     "output_type": "execute_result"
    }
   ],
   "source": [
    "d = 2/36\n",
    "d"
   ]
  },
  {
   "cell_type": "raw",
   "id": "8b1174f0",
   "metadata": {},
   "source": [
    "e) a probabilidade da interseção entre os eventos A e B:\n",
    "(5, 1), (4, 2), (3, 3)"
   ]
  },
  {
   "cell_type": "code",
   "execution_count": 1,
   "id": "9278a940",
   "metadata": {},
   "outputs": [
    {
     "data": {
      "text/plain": [
       "0.08333333333333333"
      ]
     },
     "execution_count": 1,
     "metadata": {},
     "output_type": "execute_result"
    }
   ],
   "source": [
    "e = 3/36\n",
    "e"
   ]
  },
  {
   "cell_type": "raw",
   "id": "4952d46d",
   "metadata": {},
   "source": [
    "f) a probabilidade da união do complemento de A com o evento B:\n",
    " O complemento do evento A contém todos os resultados exceto: (1,5), (2,4), (3,3), (4,2) e (5,1) e a união do complemento de A com o evento B será o evento que contém todos os resultados do espaço amostral, exceto (2,4) e (1,5)."
   ]
  },
  {
   "cell_type": "code",
   "execution_count": 2,
   "id": "bbfb9cf7",
   "metadata": {},
   "outputs": [
    {
     "data": {
      "text/plain": [
       "0.9444444444444444"
      ]
     },
     "execution_count": 2,
     "metadata": {},
     "output_type": "execute_result"
    }
   ],
   "source": [
    "f = 34/36\n",
    "f"
   ]
  }
 ],
 "metadata": {
  "kernelspec": {
   "display_name": "Python 3 (ipykernel)",
   "language": "python",
   "name": "python3"
  },
  "language_info": {
   "codemirror_mode": {
    "name": "ipython",
    "version": 3
   },
   "file_extension": ".py",
   "mimetype": "text/x-python",
   "name": "python",
   "nbconvert_exporter": "python",
   "pygments_lexer": "ipython3",
   "version": "3.9.7"
  }
 },
 "nbformat": 4,
 "nbformat_minor": 5
}
