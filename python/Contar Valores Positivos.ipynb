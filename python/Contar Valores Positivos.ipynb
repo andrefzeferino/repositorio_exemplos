{
 "cells": [
  {
   "cell_type": "markdown",
   "id": "204e132a",
   "metadata": {},
   "source": [
    "Contar Somente Valores Positivos"
   ]
  },
  {
   "cell_type": "code",
   "execution_count": null,
   "id": "fc6c516a",
   "metadata": {},
   "outputs": [],
   "source": [
    "counter = 0\n",
    "for i in range(6):\n",
    "    number = float(input())\n",
    "    if number > 0:\n",
    "        counter += 1\n",
    "\n",
    "print(str(counter) + ' valores positivos')"
   ]
  }
 ],
 "metadata": {
  "kernelspec": {
   "display_name": "Python 3 (ipykernel)",
   "language": "python",
   "name": "python3"
  },
  "language_info": {
   "codemirror_mode": {
    "name": "ipython",
    "version": 3
   },
   "file_extension": ".py",
   "mimetype": "text/x-python",
   "name": "python",
   "nbconvert_exporter": "python",
   "pygments_lexer": "ipython3",
   "version": "3.9.7"
  }
 },
 "nbformat": 4,
 "nbformat_minor": 5
}
