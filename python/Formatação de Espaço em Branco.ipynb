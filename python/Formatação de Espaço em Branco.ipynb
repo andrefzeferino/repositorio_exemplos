{
 "cells": [
  {
   "cell_type": "markdown",
   "id": "d4b91dc0",
   "metadata": {},
   "source": [
    "Fonte e Exemplos do Livro: Data Science Do Zero: Noções Fundamentais com Python de Joel Grus"
   ]
  },
  {
   "cell_type": "code",
   "execution_count": 1,
   "id": "1f158f25",
   "metadata": {},
   "outputs": [],
   "source": [
    "#A cerquilha indica o início de um comentário. O Python ignora esses comentários, mas ele orientam os leitores do código."
   ]
  },
  {
   "cell_type": "code",
   "execution_count": 2,
   "id": "4b5bed16",
   "metadata": {},
   "outputs": [
    {
     "name": "stdout",
     "output_type": "stream",
     "text": [
      "1\n",
      "1\n",
      "2\n",
      "2\n",
      "3\n",
      "3\n",
      "4\n",
      "4\n",
      "5\n",
      "5\n",
      "6\n",
      "1\n",
      "2\n",
      "1\n",
      "3\n",
      "2\n",
      "4\n",
      "3\n",
      "5\n",
      "4\n",
      "6\n",
      "5\n",
      "7\n",
      "2\n",
      "3\n",
      "1\n",
      "4\n",
      "2\n",
      "5\n",
      "3\n",
      "6\n",
      "4\n",
      "7\n",
      "5\n",
      "8\n",
      "3\n",
      "4\n",
      "1\n",
      "5\n",
      "2\n",
      "6\n",
      "3\n",
      "7\n",
      "4\n",
      "8\n",
      "5\n",
      "9\n",
      "4\n",
      "5\n",
      "1\n",
      "6\n",
      "2\n",
      "7\n",
      "3\n",
      "8\n",
      "4\n",
      "9\n",
      "5\n",
      "10\n",
      "5\n",
      "Loop Concluído\n"
     ]
    }
   ],
   "source": [
    "for i in [1, 2, 3, 4, 5]:\n",
    "    print(i) #primeira linha do bloco for(i)\n",
    "    for j in [1, 2, 3, 4, 5]:\n",
    "        print(j)#primeira linha do bloco for(j)\n",
    "        print(i + j)#última linha do bloco for(j)\n",
    "    print(i)#última linha do bloco for(i)\n",
    "print(\"Loop Concluído\")"
   ]
  },
  {
   "cell_type": "code",
   "execution_count": 3,
   "id": "594bae8f",
   "metadata": {},
   "outputs": [],
   "source": [
    "soma = (1 + 2 + 3 + 4 + 5 + 6 + 7 + 8 + 9 + 10 + 11 + 12 + 13 + 14 + 15 + 16 + 17 + 18 + 19 + 20)"
   ]
  },
  {
   "cell_type": "code",
   "execution_count": 4,
   "id": "340a35d2",
   "metadata": {},
   "outputs": [
    {
     "name": "stdout",
     "output_type": "stream",
     "text": [
      "210\n"
     ]
    }
   ],
   "source": [
    "print(soma)"
   ]
  },
  {
   "cell_type": "code",
   "execution_count": 5,
   "id": "d74fb591",
   "metadata": {},
   "outputs": [],
   "source": [
    "lista_de_listas = [[1, 2, 3], [4, 5, 6], [7, 8, 9]]"
   ]
  },
  {
   "cell_type": "code",
   "execution_count": 6,
   "id": "e0c7cadb",
   "metadata": {},
   "outputs": [
    {
     "name": "stdout",
     "output_type": "stream",
     "text": [
      "[[1, 2, 3], [4, 5, 6], [7, 8, 9]]\n"
     ]
    }
   ],
   "source": [
    "print(lista_de_listas)"
   ]
  },
  {
   "cell_type": "code",
   "execution_count": 7,
   "id": "73ad4630",
   "metadata": {},
   "outputs": [],
   "source": [
    "outra_forma = [[1, 2, 3],\n",
    "               [4, 5, 6],\n",
    "               [7, 8, 9]]"
   ]
  },
  {
   "cell_type": "code",
   "execution_count": 8,
   "id": "8d47aada",
   "metadata": {},
   "outputs": [
    {
     "name": "stdout",
     "output_type": "stream",
     "text": [
      "[[1, 2, 3], [4, 5, 6], [7, 8, 9]]\n"
     ]
    }
   ],
   "source": [
    "print(outra_forma)"
   ]
  },
  {
   "cell_type": "code",
   "execution_count": 9,
   "id": "101db1a6",
   "metadata": {},
   "outputs": [],
   "source": [
    "dois_mais_tres = 2 + \\\n",
    "                 3"
   ]
  },
  {
   "cell_type": "code",
   "execution_count": 10,
   "id": "e525f69e",
   "metadata": {},
   "outputs": [
    {
     "name": "stdout",
     "output_type": "stream",
     "text": [
      "5\n"
     ]
    }
   ],
   "source": [
    "print(dois_mais_tres)"
   ]
  }
 ],
 "metadata": {
  "kernelspec": {
   "display_name": "Python 3 (ipykernel)",
   "language": "python",
   "name": "python3"
  },
  "language_info": {
   "codemirror_mode": {
    "name": "ipython",
    "version": 3
   },
   "file_extension": ".py",
   "mimetype": "text/x-python",
   "name": "python",
   "nbconvert_exporter": "python",
   "pygments_lexer": "ipython3",
   "version": "3.9.7"
  }
 },
 "nbformat": 4,
 "nbformat_minor": 5
}
