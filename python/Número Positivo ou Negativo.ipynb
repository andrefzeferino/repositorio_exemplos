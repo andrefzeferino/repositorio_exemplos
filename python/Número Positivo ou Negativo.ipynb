{
 "cells": [
  {
   "cell_type": "raw",
   "id": "98766863",
   "metadata": {},
   "source": [
    "Verificar se uma entrada é de um número positivo ou negativo"
   ]
  },
  {
   "cell_type": "code",
   "execution_count": 1,
   "id": "92e0b678",
   "metadata": {},
   "outputs": [
    {
     "name": "stdout",
     "output_type": "stream",
     "text": [
      "Digite um número: 1\n"
     ]
    }
   ],
   "source": [
    "entrada = input('Digite um número: ')"
   ]
  },
  {
   "cell_type": "code",
   "execution_count": 2,
   "id": "a5949310",
   "metadata": {},
   "outputs": [
    {
     "name": "stdout",
     "output_type": "stream",
     "text": [
      "O número 1 é positivo!\n"
     ]
    }
   ],
   "source": [
    "if entrada >= str(0):\n",
    "    print('O número ' + entrada + ' é positivo!')\n",
    "else:\n",
    "    print('O número ' + entrada + ' é negativo!')"
   ]
  }
 ],
 "metadata": {
  "kernelspec": {
   "display_name": "Python 3 (ipykernel)",
   "language": "python",
   "name": "python3"
  },
  "language_info": {
   "codemirror_mode": {
    "name": "ipython",
    "version": 3
   },
   "file_extension": ".py",
   "mimetype": "text/x-python",
   "name": "python",
   "nbconvert_exporter": "python",
   "pygments_lexer": "ipython3",
   "version": "3.9.7"
  }
 },
 "nbformat": 4,
 "nbformat_minor": 5
}
