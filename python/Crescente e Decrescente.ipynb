{
 "cells": [
  {
   "cell_type": "raw",
   "id": "7358e9e3",
   "metadata": {},
   "source": [
    "Ver se o Número Crescente e Decrescente"
   ]
  },
  {
   "cell_type": "code",
   "execution_count": null,
   "id": "5af5e181",
   "metadata": {},
   "outputs": [],
   "source": [
    "X, Y = map(int, input().split())\n",
    "while X != Y:\n",
    "    if (X < Y):\n",
    "        print(\"Crescente\")\n",
    "    elif (X > Y):\n",
    "        print(\"Decrescente\")\n",
    "    X, Y = map(int, input().split())"
   ]
  }
 ],
 "metadata": {
  "kernelspec": {
   "display_name": "Python 3 (ipykernel)",
   "language": "python",
   "name": "python3"
  },
  "language_info": {
   "codemirror_mode": {
    "name": "ipython",
    "version": 3
   },
   "file_extension": ".py",
   "mimetype": "text/x-python",
   "name": "python",
   "nbconvert_exporter": "python",
   "pygments_lexer": "ipython3",
   "version": "3.9.7"
  }
 },
 "nbformat": 4,
 "nbformat_minor": 5
}
