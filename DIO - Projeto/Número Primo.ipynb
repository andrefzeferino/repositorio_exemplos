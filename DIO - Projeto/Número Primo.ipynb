{
 "cells": [
  {
   "cell_type": "code",
   "execution_count": null,
   "id": "ebeb5bea",
   "metadata": {},
   "outputs": [
    {
     "name": "stdout",
     "output_type": "stream",
     "text": [
      "2\n",
      "3\n",
      "3 é primo\n"
     ]
    }
   ],
   "source": [
    "#TODO: Complete os espaços em branco com uma solução possível\n",
    "n = int(input())\n",
    "for i in range(n):\n",
    "    num = int(input())\n",
    "    sum = 0\n",
    "\n",
    "    for j in range(1, (num+1)):\n",
    "        if num%j == 0:\n",
    "            sum += 1       \n",
    "   \n",
    "    if sum != (2):\n",
    "        print(str(num) + ' não é primo')\n",
    "    else:\n",
    "        print(str(num) + ' é primo')"
   ]
  }
 ],
 "metadata": {
  "kernelspec": {
   "display_name": "Python 3 (ipykernel)",
   "language": "python",
   "name": "python3"
  },
  "language_info": {
   "codemirror_mode": {
    "name": "ipython",
    "version": 3
   },
   "file_extension": ".py",
   "mimetype": "text/x-python",
   "name": "python",
   "nbconvert_exporter": "python",
   "pygments_lexer": "ipython3",
   "version": "3.9.7"
  }
 },
 "nbformat": 4,
 "nbformat_minor": 5
}
