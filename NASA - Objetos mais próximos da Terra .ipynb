{
 "cells": [
  {
   "cell_type": "markdown",
   "id": "70dbeeef",
   "metadata": {},
   "source": [
    "### Contexto\n",
    "### Há um número infinito de objetos no espaço sideral. Alguns deles estão mais perto do que pensamos. Mesmo que possamos pensar que uma distância de 70.000 Km não pode nos prejudicar, mas em escala astronômica, esta é uma distância muito pequena e pode atrapalhar muitos fenômenos naturais. Esses objetos/asteroides podem, assim, revelar-se prejudiciais. Por isso, é sábio saber o que está ao nosso redor e o que pode nos prejudicar entre eles. Assim, este conjunto de dados compila a lista de asteróides certificados pela NASA que são classificados como o objeto terrestre mais próximo."
   ]
  },
  {
   "cell_type": "markdown",
   "id": "ce520720",
   "metadata": {},
   "source": [
    "Fonte: NASA Open API"
   ]
  },
  {
   "cell_type": "code",
   "execution_count": 1,
   "id": "b307d4eb",
   "metadata": {},
   "outputs": [],
   "source": [
    "import pandas as pd"
   ]
  },
  {
   "cell_type": "code",
   "execution_count": 2,
   "id": "348e2c0d",
   "metadata": {},
   "outputs": [],
   "source": [
    "df = pd.read_csv('neo.csv', sep = ',')"
   ]
  },
  {
   "cell_type": "code",
   "execution_count": 3,
   "id": "e2aa22ba",
   "metadata": {},
   "outputs": [
    {
     "data": {
      "text/html": [
       "<div>\n",
       "<style scoped>\n",
       "    .dataframe tbody tr th:only-of-type {\n",
       "        vertical-align: middle;\n",
       "    }\n",
       "\n",
       "    .dataframe tbody tr th {\n",
       "        vertical-align: top;\n",
       "    }\n",
       "\n",
       "    .dataframe thead th {\n",
       "        text-align: right;\n",
       "    }\n",
       "</style>\n",
       "<table border=\"1\" class=\"dataframe\">\n",
       "  <thead>\n",
       "    <tr style=\"text-align: right;\">\n",
       "      <th></th>\n",
       "      <th>id</th>\n",
       "      <th>name</th>\n",
       "      <th>est_diameter_min</th>\n",
       "      <th>est_diameter_max</th>\n",
       "      <th>relative_velocity</th>\n",
       "      <th>miss_distance</th>\n",
       "      <th>orbiting_body</th>\n",
       "      <th>sentry_object</th>\n",
       "      <th>absolute_magnitude</th>\n",
       "      <th>hazardous</th>\n",
       "    </tr>\n",
       "  </thead>\n",
       "  <tbody>\n",
       "    <tr>\n",
       "      <th>0</th>\n",
       "      <td>2162635</td>\n",
       "      <td>162635 (2000 SS164)</td>\n",
       "      <td>1.198271</td>\n",
       "      <td>2.679415</td>\n",
       "      <td>13569.249224</td>\n",
       "      <td>5.483974e+07</td>\n",
       "      <td>Earth</td>\n",
       "      <td>False</td>\n",
       "      <td>16.73</td>\n",
       "      <td>False</td>\n",
       "    </tr>\n",
       "    <tr>\n",
       "      <th>1</th>\n",
       "      <td>2277475</td>\n",
       "      <td>277475 (2005 WK4)</td>\n",
       "      <td>0.265800</td>\n",
       "      <td>0.594347</td>\n",
       "      <td>73588.726663</td>\n",
       "      <td>6.143813e+07</td>\n",
       "      <td>Earth</td>\n",
       "      <td>False</td>\n",
       "      <td>20.00</td>\n",
       "      <td>True</td>\n",
       "    </tr>\n",
       "    <tr>\n",
       "      <th>2</th>\n",
       "      <td>2512244</td>\n",
       "      <td>512244 (2015 YE18)</td>\n",
       "      <td>0.722030</td>\n",
       "      <td>1.614507</td>\n",
       "      <td>114258.692129</td>\n",
       "      <td>4.979872e+07</td>\n",
       "      <td>Earth</td>\n",
       "      <td>False</td>\n",
       "      <td>17.83</td>\n",
       "      <td>False</td>\n",
       "    </tr>\n",
       "    <tr>\n",
       "      <th>3</th>\n",
       "      <td>3596030</td>\n",
       "      <td>(2012 BV13)</td>\n",
       "      <td>0.096506</td>\n",
       "      <td>0.215794</td>\n",
       "      <td>24764.303138</td>\n",
       "      <td>2.543497e+07</td>\n",
       "      <td>Earth</td>\n",
       "      <td>False</td>\n",
       "      <td>22.20</td>\n",
       "      <td>False</td>\n",
       "    </tr>\n",
       "    <tr>\n",
       "      <th>4</th>\n",
       "      <td>3667127</td>\n",
       "      <td>(2014 GE35)</td>\n",
       "      <td>0.255009</td>\n",
       "      <td>0.570217</td>\n",
       "      <td>42737.733765</td>\n",
       "      <td>4.627557e+07</td>\n",
       "      <td>Earth</td>\n",
       "      <td>False</td>\n",
       "      <td>20.09</td>\n",
       "      <td>True</td>\n",
       "    </tr>\n",
       "  </tbody>\n",
       "</table>\n",
       "</div>"
      ],
      "text/plain": [
       "        id                 name  est_diameter_min  est_diameter_max  \\\n",
       "0  2162635  162635 (2000 SS164)          1.198271          2.679415   \n",
       "1  2277475    277475 (2005 WK4)          0.265800          0.594347   \n",
       "2  2512244   512244 (2015 YE18)          0.722030          1.614507   \n",
       "3  3596030          (2012 BV13)          0.096506          0.215794   \n",
       "4  3667127          (2014 GE35)          0.255009          0.570217   \n",
       "\n",
       "   relative_velocity  miss_distance orbiting_body  sentry_object  \\\n",
       "0       13569.249224   5.483974e+07         Earth          False   \n",
       "1       73588.726663   6.143813e+07         Earth          False   \n",
       "2      114258.692129   4.979872e+07         Earth          False   \n",
       "3       24764.303138   2.543497e+07         Earth          False   \n",
       "4       42737.733765   4.627557e+07         Earth          False   \n",
       "\n",
       "   absolute_magnitude  hazardous  \n",
       "0               16.73      False  \n",
       "1               20.00       True  \n",
       "2               17.83      False  \n",
       "3               22.20      False  \n",
       "4               20.09       True  "
      ]
     },
     "execution_count": 3,
     "metadata": {},
     "output_type": "execute_result"
    }
   ],
   "source": [
    "df.head()"
   ]
  },
  {
   "cell_type": "code",
   "execution_count": 4,
   "id": "130f2ded",
   "metadata": {},
   "outputs": [],
   "source": [
    "# Traduzindo as colunas\n",
    "df.columns = ['id', 'nome','est_diametro_min','est_diametro_max','velocidade_relativa','miss_distancia',\n",
    "              'corpo_orbita','objeto_sentinela','magnitude_absoluta','perigoso']"
   ]
  },
  {
   "cell_type": "code",
   "execution_count": 5,
   "id": "49aff7a5",
   "metadata": {},
   "outputs": [
    {
     "data": {
      "text/html": [
       "<div>\n",
       "<style scoped>\n",
       "    .dataframe tbody tr th:only-of-type {\n",
       "        vertical-align: middle;\n",
       "    }\n",
       "\n",
       "    .dataframe tbody tr th {\n",
       "        vertical-align: top;\n",
       "    }\n",
       "\n",
       "    .dataframe thead th {\n",
       "        text-align: right;\n",
       "    }\n",
       "</style>\n",
       "<table border=\"1\" class=\"dataframe\">\n",
       "  <thead>\n",
       "    <tr style=\"text-align: right;\">\n",
       "      <th></th>\n",
       "      <th>id</th>\n",
       "      <th>nome</th>\n",
       "      <th>est_diametro_min</th>\n",
       "      <th>est_diametro_max</th>\n",
       "      <th>velocidade_relativa</th>\n",
       "      <th>miss_distancia</th>\n",
       "      <th>corpo_orbita</th>\n",
       "      <th>objeto_sentinela</th>\n",
       "      <th>magnitude_absoluta</th>\n",
       "      <th>perigoso</th>\n",
       "    </tr>\n",
       "  </thead>\n",
       "  <tbody>\n",
       "    <tr>\n",
       "      <th>0</th>\n",
       "      <td>2162635</td>\n",
       "      <td>162635 (2000 SS164)</td>\n",
       "      <td>1.198271</td>\n",
       "      <td>2.679415</td>\n",
       "      <td>13569.249224</td>\n",
       "      <td>5.483974e+07</td>\n",
       "      <td>Earth</td>\n",
       "      <td>False</td>\n",
       "      <td>16.73</td>\n",
       "      <td>False</td>\n",
       "    </tr>\n",
       "    <tr>\n",
       "      <th>1</th>\n",
       "      <td>2277475</td>\n",
       "      <td>277475 (2005 WK4)</td>\n",
       "      <td>0.265800</td>\n",
       "      <td>0.594347</td>\n",
       "      <td>73588.726663</td>\n",
       "      <td>6.143813e+07</td>\n",
       "      <td>Earth</td>\n",
       "      <td>False</td>\n",
       "      <td>20.00</td>\n",
       "      <td>True</td>\n",
       "    </tr>\n",
       "    <tr>\n",
       "      <th>2</th>\n",
       "      <td>2512244</td>\n",
       "      <td>512244 (2015 YE18)</td>\n",
       "      <td>0.722030</td>\n",
       "      <td>1.614507</td>\n",
       "      <td>114258.692129</td>\n",
       "      <td>4.979872e+07</td>\n",
       "      <td>Earth</td>\n",
       "      <td>False</td>\n",
       "      <td>17.83</td>\n",
       "      <td>False</td>\n",
       "    </tr>\n",
       "    <tr>\n",
       "      <th>3</th>\n",
       "      <td>3596030</td>\n",
       "      <td>(2012 BV13)</td>\n",
       "      <td>0.096506</td>\n",
       "      <td>0.215794</td>\n",
       "      <td>24764.303138</td>\n",
       "      <td>2.543497e+07</td>\n",
       "      <td>Earth</td>\n",
       "      <td>False</td>\n",
       "      <td>22.20</td>\n",
       "      <td>False</td>\n",
       "    </tr>\n",
       "    <tr>\n",
       "      <th>4</th>\n",
       "      <td>3667127</td>\n",
       "      <td>(2014 GE35)</td>\n",
       "      <td>0.255009</td>\n",
       "      <td>0.570217</td>\n",
       "      <td>42737.733765</td>\n",
       "      <td>4.627557e+07</td>\n",
       "      <td>Earth</td>\n",
       "      <td>False</td>\n",
       "      <td>20.09</td>\n",
       "      <td>True</td>\n",
       "    </tr>\n",
       "  </tbody>\n",
       "</table>\n",
       "</div>"
      ],
      "text/plain": [
       "        id                 nome  est_diametro_min  est_diametro_max  \\\n",
       "0  2162635  162635 (2000 SS164)          1.198271          2.679415   \n",
       "1  2277475    277475 (2005 WK4)          0.265800          0.594347   \n",
       "2  2512244   512244 (2015 YE18)          0.722030          1.614507   \n",
       "3  3596030          (2012 BV13)          0.096506          0.215794   \n",
       "4  3667127          (2014 GE35)          0.255009          0.570217   \n",
       "\n",
       "   velocidade_relativa  miss_distancia corpo_orbita  objeto_sentinela  \\\n",
       "0         13569.249224    5.483974e+07        Earth             False   \n",
       "1         73588.726663    6.143813e+07        Earth             False   \n",
       "2        114258.692129    4.979872e+07        Earth             False   \n",
       "3         24764.303138    2.543497e+07        Earth             False   \n",
       "4         42737.733765    4.627557e+07        Earth             False   \n",
       "\n",
       "   magnitude_absoluta  perigoso  \n",
       "0               16.73     False  \n",
       "1               20.00      True  \n",
       "2               17.83     False  \n",
       "3               22.20     False  \n",
       "4               20.09      True  "
      ]
     },
     "execution_count": 5,
     "metadata": {},
     "output_type": "execute_result"
    }
   ],
   "source": [
    "df.head()"
   ]
  },
  {
   "cell_type": "code",
   "execution_count": 6,
   "id": "19e862f4",
   "metadata": {},
   "outputs": [],
   "source": [
    "# Remover valores duplicados\n",
    "df = df.drop_duplicates()"
   ]
  },
  {
   "cell_type": "code",
   "execution_count": 7,
   "id": "c19e0b0d",
   "metadata": {},
   "outputs": [],
   "source": [
    "# Remover valores NaN\n",
    "df = df.dropna()"
   ]
  },
  {
   "cell_type": "code",
   "execution_count": 8,
   "id": "48eaddb1",
   "metadata": {},
   "outputs": [],
   "source": [
    "# mudar o tipo de dados da coluna miss_dintacia\n",
    "tipo_dados = {'miss_distancia': int}\n",
    "df = df.astype(tipo_dados)"
   ]
  },
  {
   "cell_type": "markdown",
   "id": "a1fc6251",
   "metadata": {},
   "source": [
    "### Qual o Diametro Mínimo do Objeto Identificado?"
   ]
  },
  {
   "cell_type": "code",
   "execution_count": 9,
   "id": "969b484c",
   "metadata": {},
   "outputs": [
    {
     "data": {
      "text/plain": [
       "0.0006089126"
      ]
     },
     "execution_count": 9,
     "metadata": {},
     "output_type": "execute_result"
    }
   ],
   "source": [
    "df.est_diametro_min.min()"
   ]
  },
  {
   "cell_type": "markdown",
   "id": "2ea40eee",
   "metadata": {},
   "source": [
    "### Qual o Diametro Máximo do Objeto Identificado?"
   ]
  },
  {
   "cell_type": "code",
   "execution_count": 10,
   "id": "2d80ce9c",
   "metadata": {},
   "outputs": [
    {
     "data": {
      "text/plain": [
       "84.7305408852"
      ]
     },
     "execution_count": 10,
     "metadata": {},
     "output_type": "execute_result"
    }
   ],
   "source": [
    "df.est_diametro_max.max()"
   ]
  },
  {
   "cell_type": "markdown",
   "id": "014c5100",
   "metadata": {},
   "source": [
    "### Qual a Máxima Velocidade Relativa do Objeto Identificado?"
   ]
  },
  {
   "cell_type": "code",
   "execution_count": 11,
   "id": "9b06c33d",
   "metadata": {},
   "outputs": [
    {
     "data": {
      "text/plain": [
       "236990.1280878666"
      ]
     },
     "execution_count": 11,
     "metadata": {},
     "output_type": "execute_result"
    }
   ],
   "source": [
    "df.velocidade_relativa.max()"
   ]
  },
  {
   "cell_type": "code",
   "execution_count": 12,
   "id": "12a4654a",
   "metadata": {},
   "outputs": [],
   "source": [
    "# Verificando qual são os maiores objetos est_diametro_max >= 20\n",
    "df_query = df.query('est_diametro_max >= 20')"
   ]
  },
  {
   "cell_type": "code",
   "execution_count": 13,
   "id": "859c732f",
   "metadata": {},
   "outputs": [
    {
     "data": {
      "text/html": [
       "<div>\n",
       "<style scoped>\n",
       "    .dataframe tbody tr th:only-of-type {\n",
       "        vertical-align: middle;\n",
       "    }\n",
       "\n",
       "    .dataframe tbody tr th {\n",
       "        vertical-align: top;\n",
       "    }\n",
       "\n",
       "    .dataframe thead th {\n",
       "        text-align: right;\n",
       "    }\n",
       "</style>\n",
       "<table border=\"1\" class=\"dataframe\">\n",
       "  <thead>\n",
       "    <tr style=\"text-align: right;\">\n",
       "      <th></th>\n",
       "      <th>id</th>\n",
       "      <th>nome</th>\n",
       "      <th>est_diametro_min</th>\n",
       "      <th>est_diametro_max</th>\n",
       "      <th>velocidade_relativa</th>\n",
       "      <th>miss_distancia</th>\n",
       "      <th>corpo_orbita</th>\n",
       "      <th>objeto_sentinela</th>\n",
       "      <th>magnitude_absoluta</th>\n",
       "      <th>perigoso</th>\n",
       "    </tr>\n",
       "  </thead>\n",
       "  <tbody>\n",
       "    <tr>\n",
       "      <th>12709</th>\n",
       "      <td>2000433</td>\n",
       "      <td>433 Eros (A898 PA)</td>\n",
       "      <td>23.043847</td>\n",
       "      <td>51.527608</td>\n",
       "      <td>15884.252623</td>\n",
       "      <td>54688077</td>\n",
       "      <td>Earth</td>\n",
       "      <td>False</td>\n",
       "      <td>10.31</td>\n",
       "      <td>False</td>\n",
       "    </tr>\n",
       "    <tr>\n",
       "      <th>36418</th>\n",
       "      <td>2001036</td>\n",
       "      <td>1036 Ganymed (A924 UB)</td>\n",
       "      <td>37.892650</td>\n",
       "      <td>84.730541</td>\n",
       "      <td>51496.923293</td>\n",
       "      <td>53721237</td>\n",
       "      <td>Earth</td>\n",
       "      <td>False</td>\n",
       "      <td>9.23</td>\n",
       "      <td>False</td>\n",
       "    </tr>\n",
       "    <tr>\n",
       "      <th>37651</th>\n",
       "      <td>2000433</td>\n",
       "      <td>433 Eros (A898 PA)</td>\n",
       "      <td>23.043847</td>\n",
       "      <td>51.527608</td>\n",
       "      <td>21402.705247</td>\n",
       "      <td>26729521</td>\n",
       "      <td>Earth</td>\n",
       "      <td>False</td>\n",
       "      <td>10.31</td>\n",
       "      <td>False</td>\n",
       "    </tr>\n",
       "    <tr>\n",
       "      <th>56533</th>\n",
       "      <td>2000433</td>\n",
       "      <td>433 Eros (A898 PA)</td>\n",
       "      <td>23.043847</td>\n",
       "      <td>51.527608</td>\n",
       "      <td>21761.703426</td>\n",
       "      <td>31205919</td>\n",
       "      <td>Earth</td>\n",
       "      <td>False</td>\n",
       "      <td>10.31</td>\n",
       "      <td>False</td>\n",
       "    </tr>\n",
       "  </tbody>\n",
       "</table>\n",
       "</div>"
      ],
      "text/plain": [
       "            id                    nome  est_diametro_min  est_diametro_max  \\\n",
       "12709  2000433      433 Eros (A898 PA)         23.043847         51.527608   \n",
       "36418  2001036  1036 Ganymed (A924 UB)         37.892650         84.730541   \n",
       "37651  2000433      433 Eros (A898 PA)         23.043847         51.527608   \n",
       "56533  2000433      433 Eros (A898 PA)         23.043847         51.527608   \n",
       "\n",
       "       velocidade_relativa  miss_distancia corpo_orbita  objeto_sentinela  \\\n",
       "12709         15884.252623        54688077        Earth             False   \n",
       "36418         51496.923293        53721237        Earth             False   \n",
       "37651         21402.705247        26729521        Earth             False   \n",
       "56533         21761.703426        31205919        Earth             False   \n",
       "\n",
       "       magnitude_absoluta  perigoso  \n",
       "12709               10.31     False  \n",
       "36418                9.23     False  \n",
       "37651               10.31     False  \n",
       "56533               10.31     False  "
      ]
     },
     "execution_count": 13,
     "metadata": {},
     "output_type": "execute_result"
    }
   ],
   "source": [
    "df_query"
   ]
  },
  {
   "cell_type": "code",
   "execution_count": 16,
   "id": "694043ae",
   "metadata": {},
   "outputs": [
    {
     "data": {
      "text/plain": [
       "([0, 1, 2, 3, 4, 5, 6, 7, 8, 9],\n",
       " [Text(0, 0, ''),\n",
       "  Text(0, 0, ''),\n",
       "  Text(0, 0, ''),\n",
       "  Text(0, 0, ''),\n",
       "  Text(0, 0, ''),\n",
       "  Text(0, 0, ''),\n",
       "  Text(0, 0, ''),\n",
       "  Text(0, 0, ''),\n",
       "  Text(0, 0, ''),\n",
       "  Text(0, 0, '')])"
      ]
     },
     "execution_count": 16,
     "metadata": {},
     "output_type": "execute_result"
    },
    {
     "data": {
      "image/png": "[encoded data removed]",
      "text/plain": [
       "<Figure size 432x288 with 1 Axes>"
      ]
     },
     "metadata": {
      "needs_background": "light"
     },
     "output_type": "display_data"
    }
   ],
   "source": [
    "# Plotando um gráfico\n",
    "import matplotlib.pyplot as plt\n",
    "x = df_query['nome']\n",
    "y = df_query['est_diametro_max']\n",
    "\n",
    "plt.bar(x, y)\n",
    "plt.title('Objetos com Diametro >= 20')\n",
    "plt.xlabel('Nome')\n",
    "plt.ylabel('Tamanho')\n",
    "plt.xticks(rotation=90)"
   ]
  },
  {
   "cell_type": "code",
   "execution_count": null,
   "id": "f88c05eb",
   "metadata": {},
   "outputs": [],
   "source": []
  }
 ],
 "metadata": {
  "kernelspec": {
   "display_name": "Python 3 (ipykernel)",
   "language": "python",
   "name": "python3"
  },
  "language_info": {
   "codemirror_mode": {
    "name": "ipython",
    "version": 3
   },
   "file_extension": ".py",
   "mimetype": "text/x-python",
   "name": "python",
   "nbconvert_exporter": "python",
   "pygments_lexer": "ipython3",
   "version": "3.9.7"
  }
 },
 "nbformat": 4,
 "nbformat_minor": 5
}
