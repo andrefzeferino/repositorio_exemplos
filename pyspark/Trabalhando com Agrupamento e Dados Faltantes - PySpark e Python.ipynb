{
 "cells": [
  {
   "cell_type": "code",
   "execution_count": 1,
   "id": "2351dbdf",
   "metadata": {},
   "outputs": [],
   "source": [
    "#Iniciando findspark\n",
    "import findspark \n",
    "findspark.init()"
   ]
  },
  {
   "cell_type": "code",
   "execution_count": 2,
   "id": "7dd88b95",
   "metadata": {},
   "outputs": [],
   "source": [
    "#Criando uma sessão Sparkimport pyspark \n",
    "from pyspark.sql import SparkSession\n",
    "spark = SparkSession.builder.getOrCreate()\n",
    "#Importando Pandas\n",
    "import pandas as pd"
   ]
  },
  {
   "cell_type": "code",
   "execution_count": 3,
   "id": "a2afe7de",
   "metadata": {},
   "outputs": [
    {
     "name": "stdout",
     "output_type": "stream",
     "text": [
      "+-------+-----+----------+------+------+------+------+\n",
      "|   nome|idade|disciplina|nota_1|nota_2|nota_3|nota_4|\n",
      "+-------+-----+----------+------+------+------+------+\n",
      "|  Paulo|   13| Portugues|    10|    10|     9|     8|\n",
      "|  Maria|   14|Matemática|     7|    10|     6|     9|\n",
      "|   Rosa|   13|Matemática|     8|     6|    10|     6|\n",
      "|Joaquim|   15|Matemática|     3|     8|     7|    10|\n",
      "+-------+-----+----------+------+------+------+------+\n",
      "\n"
     ]
    }
   ],
   "source": [
    "#Criando um df Pandas e utilizando no Spark\n",
    "pandas_df = pd.DataFrame({ \n",
    "    'nome': ['Paulo', 'Maria', 'Rosa', 'Joaquim'],\n",
    "    'idade': [13, 14, 13, 15],\n",
    "    'disciplina': ['Portugues', 'Matemática', 'Matemática', 'Matemática'],\n",
    "    'nota_1': [10, 7, 8, 3],\n",
    "    'nota_2': [10, 10, 6, 8],\n",
    "    'nota_3': [9, 6, 10, 7],\n",
    "    'nota_4': [8, 9, 6, 10]\n",
    "})\n",
    "df = spark.createDataFrame(pandas_df)\n",
    "df.show()"
   ]
  },
  {
   "cell_type": "code",
   "execution_count": 4,
   "id": "b444b092",
   "metadata": {},
   "outputs": [
    {
     "name": "stdout",
     "output_type": "stream",
     "text": [
      "+-----+-----+\n",
      "|idade|count|\n",
      "+-----+-----+\n",
      "|   13|    2|\n",
      "|   14|    1|\n",
      "|   15|    1|\n",
      "+-----+-----+\n",
      "\n"
     ]
    }
   ],
   "source": [
    "#Agrupando dados por idade\n",
    "df.groupby('idade').count().show()"
   ]
  },
  {
   "cell_type": "code",
   "execution_count": 5,
   "id": "a1ec7d69",
   "metadata": {},
   "outputs": [
    {
     "name": "stdout",
     "output_type": "stream",
     "text": [
      "+----------+----------+-----------+-----------+-----------------+-----------------+\n",
      "|disciplina|avg(idade)|avg(nota_1)|avg(nota_2)|      avg(nota_3)|      avg(nota_4)|\n",
      "+----------+----------+-----------+-----------+-----------------+-----------------+\n",
      "| Portugues|      13.0|       10.0|       10.0|              9.0|              8.0|\n",
      "|Matemática|      14.0|        6.0|        8.0|7.666666666666667|8.333333333333334|\n",
      "+----------+----------+-----------+-----------+-----------------+-----------------+\n",
      "\n"
     ]
    }
   ],
   "source": [
    "#Agrupando média por disciplina\n",
    "df.groupby('disciplina').avg().show()"
   ]
  },
  {
   "cell_type": "code",
   "execution_count": 6,
   "id": "ff3cd7d2",
   "metadata": {},
   "outputs": [
    {
     "name": "stdout",
     "output_type": "stream",
     "text": [
      "+-------+-----+----------+------+------+------+------+-----+\n",
      "|   nome|idade|disciplina|nota_1|nota_2|nota_3|nota_4|media|\n",
      "+-------+-----+----------+------+------+------+------+-----+\n",
      "|  Paulo|   13| Portugues|    10|    10|     9|     8| null|\n",
      "|  Maria|   14|Matemática|     7|    10|     6|     9| null|\n",
      "|   Rosa|   13|Matemática|     8|     6|    10|     6| null|\n",
      "|Joaquim|   15|Matemática|     3|     8|     7|    10| null|\n",
      "+-------+-----+----------+------+------+------+------+-----+\n",
      "\n"
     ]
    }
   ],
   "source": [
    "# Adiciocionando nova coluna média null ao df \n",
    "from pyspark.sql.functions import lit # Importando lit\n",
    "df = df.withColumn(\"media\", lit(None))\n",
    "df.show()"
   ]
  },
  {
   "cell_type": "code",
   "execution_count": 7,
   "id": "c09f185f",
   "metadata": {},
   "outputs": [
    {
     "name": "stdout",
     "output_type": "stream",
     "text": [
      "+-----+\n",
      "|media|\n",
      "+-----+\n",
      "| null|\n",
      "| null|\n",
      "| null|\n",
      "| null|\n",
      "+-----+\n",
      "\n"
     ]
    }
   ],
   "source": [
    "#selecionando a coluna de um df, propositalmente escolhida a coluna com valores null\n",
    "df.select(df.media).show()"
   ]
  },
  {
   "cell_type": "code",
   "execution_count": 18,
   "id": "b86d89a8",
   "metadata": {},
   "outputs": [
    {
     "name": "stdout",
     "output_type": "stream",
     "text": [
      "+-------+-----+----------+------+------+------+------+-----+\n",
      "|   nome|idade|disciplina|nota_1|nota_2|nota_3|nota_4|media|\n",
      "+-------+-----+----------+------+------+------+------+-----+\n",
      "|  Paulo|   13| Portugues|    10|    10|     9|     8| 9.25|\n",
      "|  Maria|   14|Matemática|     7|    10|     6|     9|  8.0|\n",
      "|   Rosa|   13|Matemática|     8|     6|    10|     6|  7.5|\n",
      "|Joaquim|   15|Matemática|     3|     8|     7|    10|  7.0|\n",
      "+-------+-----+----------+------+------+------+------+-----+\n",
      "\n"
     ]
    }
   ],
   "source": [
    "#Calculando a média de forma simples e adicionando os resultados a coluna que estava com valor null\n",
    "media = (df['nota_1'] + df['nota_2'] + df['nota_3']  + df['nota_4'])/4  \n",
    "df = df.withColumn('media', lit(media))\n",
    "df.show()"
   ]
  },
  {
   "cell_type": "code",
   "execution_count": 37,
   "id": "699fa9f5",
   "metadata": {},
   "outputs": [
    {
     "name": "stdout",
     "output_type": "stream",
     "text": [
      "+--------+\n",
      "|count(1)|\n",
      "+--------+\n",
      "|       4|\n",
      "+--------+\n",
      "\n"
     ]
    }
   ],
   "source": [
    "#Criando uma tabela temporária e fazendo uma consulta SQL\n",
    "df.createOrReplaceTempView(\"nomeA\")\n",
    "spark.sql(\"SELECT count(*) FROM nomeA\").show() #contando os registros na Tabela Temporária"
   ]
  }
 ],
 "metadata": {
  "kernelspec": {
   "display_name": "Python 3 (ipykernel)",
   "language": "python",
   "name": "python3"
  },
  "language_info": {
   "codemirror_mode": {
    "name": "ipython",
    "version": 3
   },
   "file_extension": ".py",
   "mimetype": "text/x-python",
   "name": "python",
   "nbconvert_exporter": "python",
   "pygments_lexer": "ipython3",
   "version": "3.9.7"
  }
 },
 "nbformat": 4,
 "nbformat_minor": 5
}
