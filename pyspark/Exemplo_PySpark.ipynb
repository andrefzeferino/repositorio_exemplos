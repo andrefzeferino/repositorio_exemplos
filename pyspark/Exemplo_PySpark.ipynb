{
 "cells": [
  {
   "cell_type": "markdown",
   "id": "3b0346e8",
   "metadata": {},
   "source": [
    "# Criando e Manipulando DF com PySpark"
   ]
  },
  {
   "cell_type": "code",
   "execution_count": 1,
   "id": "0d78803e",
   "metadata": {},
   "outputs": [],
   "source": [
    "import findspark #Iniciando o PySpark\n",
    "findspark.init()\n",
    "import pyspark\n",
    "from pyspark.sql import SparkSession\n",
    "spark = SparkSession.builder.getOrCreate()"
   ]
  },
  {
   "cell_type": "raw",
   "id": "60dbf276",
   "metadata": {},
   "source": [
    "Trabalhando com Pandas"
   ]
  },
  {
   "cell_type": "code",
   "execution_count": 2,
   "id": "3b97d01a",
   "metadata": {},
   "outputs": [],
   "source": [
    "import pandas as pd"
   ]
  },
  {
   "cell_type": "raw",
   "id": "2ca0c9a2",
   "metadata": {},
   "source": [
    "Criando um DF de exemplo"
   ]
  },
  {
   "cell_type": "code",
   "execution_count": 3,
   "id": "6dad5862",
   "metadata": {},
   "outputs": [
    {
     "data": {
      "text/plain": [
       "DataFrame[matricula: bigint, funcionario: string, valor_venda: bigint]"
      ]
     },
     "execution_count": 3,
     "metadata": {},
     "output_type": "execute_result"
    }
   ],
   "source": [
    "pandas_df = pd.DataFrame({\n",
    "    'matricula': [1, 2, 3],\n",
    "    'funcionario': ['Carlos', 'Pedro', 'Maria'],\n",
    "    'valor_venda': [1200, 3212, 4000]\n",
    "})\n",
    "df = spark.createDataFrame(pandas_df)\n",
    "df"
   ]
  },
  {
   "cell_type": "raw",
   "id": "9d49adcf",
   "metadata": {},
   "source": [
    "Visualizando os dados do DF"
   ]
  },
  {
   "cell_type": "code",
   "execution_count": 4,
   "id": "7fff1c50",
   "metadata": {},
   "outputs": [
    {
     "name": "stdout",
     "output_type": "stream",
     "text": [
      "+---------+-----------+-----------+\n",
      "|matricula|funcionario|valor_venda|\n",
      "+---------+-----------+-----------+\n",
      "|        1|     Carlos|       1200|\n",
      "|        2|      Pedro|       3212|\n",
      "|        3|      Maria|       4000|\n",
      "+---------+-----------+-----------+\n",
      "\n"
     ]
    }
   ],
   "source": [
    "df.show()"
   ]
  },
  {
   "cell_type": "raw",
   "id": "9eb3baee",
   "metadata": {},
   "source": [
    "Visualizando o schema"
   ]
  },
  {
   "cell_type": "code",
   "execution_count": 6,
   "id": "a1c54bbe",
   "metadata": {},
   "outputs": [
    {
     "name": "stdout",
     "output_type": "stream",
     "text": [
      "root\n",
      " |-- matricula: long (nullable = true)\n",
      " |-- funcionario: string (nullable = true)\n",
      " |-- valor_venda: long (nullable = true)\n",
      "\n"
     ]
    }
   ],
   "source": [
    "df.printSchema()"
   ]
  },
  {
   "cell_type": "raw",
   "id": "b1f456e5",
   "metadata": {},
   "source": [
    "Visualizar o número de linhas do DF - Horizontal"
   ]
  },
  {
   "cell_type": "code",
   "execution_count": 7,
   "id": "2bd71591",
   "metadata": {},
   "outputs": [
    {
     "name": "stdout",
     "output_type": "stream",
     "text": [
      "+---------+-----------+-----------+\n",
      "|matricula|funcionario|valor_venda|\n",
      "+---------+-----------+-----------+\n",
      "|        1|     Carlos|       1200|\n",
      "|        2|      Pedro|       3212|\n",
      "+---------+-----------+-----------+\n",
      "only showing top 2 rows\n",
      "\n"
     ]
    }
   ],
   "source": [
    "df.show(2) # 2 número de linhas que deseja ver"
   ]
  },
  {
   "cell_type": "raw",
   "id": "ba25d6d1",
   "metadata": {},
   "source": [
    "Visualizar o número de linhas do DF - Vertical"
   ]
  },
  {
   "cell_type": "code",
   "execution_count": 8,
   "id": "04546d0f",
   "metadata": {},
   "outputs": [
    {
     "name": "stdout",
     "output_type": "stream",
     "text": [
      "-RECORD 0-------------\n",
      " matricula   | 1      \n",
      " funcionario | Carlos \n",
      " valor_venda | 1200   \n",
      "-RECORD 1-------------\n",
      " matricula   | 2      \n",
      " funcionario | Pedro  \n",
      " valor_venda | 3212   \n",
      "only showing top 2 rows\n",
      "\n"
     ]
    }
   ],
   "source": [
    "df.show(2, vertical = True)"
   ]
  },
  {
   "cell_type": "raw",
   "id": "95814930",
   "metadata": {},
   "source": [
    "Visualizando o Título das Colunas"
   ]
  },
  {
   "cell_type": "code",
   "execution_count": 9,
   "id": "7487fdd3",
   "metadata": {},
   "outputs": [
    {
     "data": {
      "text/plain": [
       "['matricula', 'funcionario', 'valor_venda']"
      ]
     },
     "execution_count": 9,
     "metadata": {},
     "output_type": "execute_result"
    }
   ],
   "source": [
    "df.columns"
   ]
  },
  {
   "cell_type": "code",
   "execution_count": null,
   "id": "9cf42a2c",
   "metadata": {},
   "outputs": [],
   "source": []
  }
 ],
 "metadata": {
  "kernelspec": {
   "display_name": "Python 3 (ipykernel)",
   "language": "python",
   "name": "python3"
  },
  "language_info": {
   "codemirror_mode": {
    "name": "ipython",
    "version": 3
   },
   "file_extension": ".py",
   "mimetype": "text/x-python",
   "name": "python",
   "nbconvert_exporter": "python",
   "pygments_lexer": "ipython3",
   "version": "3.9.7"
  }
 },
 "nbformat": 4,
 "nbformat_minor": 5
}
